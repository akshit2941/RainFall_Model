{
  "cells": [
    {
      "cell_type": "code",
      "execution_count": 2,
      "metadata": {
        "colab": {
          "base_uri": "https://localhost:8080/"
        },
        "id": "V5wodD-Zcvky",
        "outputId": "98ed5d33-a88a-4754-bcb3-224b173fc0a8"
      },
      "outputs": [
        {
          "name": "stdout",
          "output_type": "stream",
          "text": [
            "Extra Trees Classifier:\n",
            "Accuracy: 0.9850436227669298\n",
            "Confusion Matrix:\n",
            "[[5002   19]\n",
            " [  89 2111]]\n"
          ]
        }
      ],
      "source": [
        "# Required Libraries\n",
        "import pandas as pd\n",
        "from sklearn.model_selection import train_test_split\n",
        "from sklearn.metrics import accuracy_score, confusion_matrix\n",
        "from sklearn.ensemble import ExtraTreesClassifier  # Extra Trees Classifier\n",
        "\n",
        "# Load your dataset (ensure 'Rainfall' is the target variable)\n",
        "data = pd.read_csv('Weather_data.csv')\n",
        "\n",
        "# Create a new 'Rainfall' column from 'precip_mm' if it doesn't exist\n",
        "if 'Rainfall' not in data.columns and 'precip_mm' in data.columns:\n",
        "    data['Rainfall'] = data['precip_mm']\n",
        "elif 'Rainfall' not in data.columns:\n",
        "    raise KeyError(\"'Rainfall' column is missing and 'precip_mm' is also not available. Please check the dataset.\")\n",
        "\n",
        "# Assuming 'Rainfall' is the target variable and binarizing it for classification\n",
        "data['Rainfall'] = data['Rainfall'].apply(lambda x: 1 if x > 0 else 0)  # Binarizing for classification\n",
        "\n",
        "# One-hot encoding for categorical features\n",
        "data = pd.get_dummies(data, drop_first=True)  # Convert categorical variables into dummy/indicator variables\n",
        "\n",
        "# Features and target\n",
        "X = data.drop(columns=['Rainfall'])  # Features\n",
        "y = data['Rainfall']  # Target\n",
        "\n",
        "# Train-test split\n",
        "X_train, X_test, y_train, y_test = train_test_split(X, y, test_size=0.3, random_state=42)\n",
        "\n",
        "# Extra Trees Classifier (Extremely Randomized Trees)\n",
        "print(\"Extra Trees Classifier:\")\n",
        "model_et = ExtraTreesClassifier(random_state=42)\n",
        "model_et.fit(X_train, y_train)\n",
        "\n",
        "# Make predictions\n",
        "y_pred_et = model_et.predict(X_test)\n",
        "\n",
        "# Calculate metrics\n",
        "accuracy_et = accuracy_score(y_test, y_pred_et)\n",
        "confusion_et = confusion_matrix(y_test, y_pred_et)\n",
        "\n",
        "# Output results\n",
        "print(f'Accuracy: {accuracy_et}')\n",
        "print('Confusion Matrix:')\n",
        "print(confusion_et)\n"
      ]
    }
  ],
  "metadata": {
    "colab": {
      "provenance": []
    },
    "kernelspec": {
      "display_name": "Python 3",
      "name": "python3"
    },
    "language_info": {
      "codemirror_mode": {
        "name": "ipython",
        "version": 3
      },
      "file_extension": ".py",
      "mimetype": "text/x-python",
      "name": "python",
      "nbconvert_exporter": "python",
      "pygments_lexer": "ipython3",
      "version": "3.11.4"
    }
  },
  "nbformat": 4,
  "nbformat_minor": 0
}
