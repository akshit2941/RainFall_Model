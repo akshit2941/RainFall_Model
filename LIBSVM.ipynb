{
 "cells": [
  {
   "cell_type": "code",
   "execution_count": 1,
   "metadata": {},
   "outputs": [
    {
     "name": "stdout",
     "output_type": "stream",
     "text": [
      "LIBSVM (SVC):\n",
      "Accuracy: 0.9651017864561695\n",
      "Confusion Matrix:\n",
      "[[5021    0]\n",
      " [ 252 1948]]\n"
     ]
    }
   ],
   "source": [
    "# Required Libraries\n",
    "import pandas as pd\n",
    "from sklearn.model_selection import train_test_split\n",
    "from sklearn.preprocessing import StandardScaler\n",
    "from sklearn.metrics import accuracy_score, confusion_matrix\n",
    "from sklearn.svm import SVC  # LIBSVM\n",
    "\n",
    "# Load your dataset (ensure 'Rainfall' is the target variable)\n",
    "data = pd.read_csv('Weather_data.csv')\n",
    "\n",
    "# Create a new 'Rainfall' column from 'precip_mm' if it doesn't exist\n",
    "if 'Rainfall' not in data.columns and 'precip_mm' in data.columns:\n",
    "    data['Rainfall'] = data['precip_mm']\n",
    "elif 'Rainfall' not in data.columns:\n",
    "    raise KeyError(\"'Rainfall' column is missing and 'precip_mm' is also not available. Please check the dataset.\")\n",
    "\n",
    "# Assuming 'Rainfall' is the target variable and binarizing it for classification\n",
    "data['Rainfall'] = data['Rainfall'].apply(lambda x: 1 if x > 0 else 0)  # Binarizing for classification\n",
    "\n",
    "# One-hot encoding for categorical features\n",
    "data = pd.get_dummies(data, drop_first=True)  # Convert categorical variables into dummy/indicator variables\n",
    "\n",
    "# Features and target\n",
    "X = data.drop(columns=['Rainfall'])  # Features\n",
    "y = data['Rainfall']  # Target\n",
    "\n",
    "# Train-test split\n",
    "X_train, X_test, y_train, y_test = train_test_split(X, y, test_size=0.3, random_state=42)\n",
    "\n",
    "# Scaling the data (important for SVC)\n",
    "scaler = StandardScaler()\n",
    "X_train_scaled = scaler.fit_transform(X_train)\n",
    "X_test_scaled = scaler.transform(X_test)\n",
    "\n",
    "# LIBSVM (SVC)\n",
    "print(\"LIBSVM (SVC):\")\n",
    "model_libsvm = SVC(kernel='linear')  # Using linear kernel for LIBSVM\n",
    "model_libsvm.fit(X_train_scaled, y_train)\n",
    "\n",
    "# Make predictions\n",
    "y_pred_libsvm = model_libsvm.predict(X_test_scaled)\n",
    "\n",
    "# Calculate metrics\n",
    "accuracy_libsvm = accuracy_score(y_test, y_pred_libsvm)\n",
    "confusion_libsvm = confusion_matrix(y_test, y_pred_libsvm)\n",
    "\n",
    "# Output results\n",
    "print(f'Accuracy: {accuracy_libsvm}')\n",
    "print('Confusion Matrix:')\n",
    "print(confusion_libsvm)\n"
   ]
  }
 ],
 "metadata": {
  "kernelspec": {
   "display_name": "Python 3",
   "language": "python",
   "name": "python3"
  },
  "language_info": {
   "codemirror_mode": {
    "name": "ipython",
    "version": 3
   },
   "file_extension": ".py",
   "mimetype": "text/x-python",
   "name": "python",
   "nbconvert_exporter": "python",
   "pygments_lexer": "ipython3",
   "version": "3.11.4"
  }
 },
 "nbformat": 4,
 "nbformat_minor": 2
}
