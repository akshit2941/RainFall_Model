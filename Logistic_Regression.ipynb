{
 "cells": [
  {
   "cell_type": "code",
   "execution_count": 8,
   "metadata": {},
   "outputs": [
    {
     "name": "stdout",
     "output_type": "stream",
     "text": [
      "Mean Squared Error: 0.1568342334856668\n",
      "Correct Predictions: 4059\n",
      "Incorrect Predictions: 755\n",
      "Accuracy: 0.8431657665143332\n",
      "Confusion Matrix:\n",
      "[[2948  417]\n",
      " [ 338 1111]]\n",
      "Test case 1 result: Rainfall expected\n",
      "Test case 2 result: No rainfall expected\n"
     ]
    },
    {
     "name": "stderr",
     "output_type": "stream",
     "text": [
      "c:\\Users\\akshi\\AppData\\Local\\Programs\\Python\\Python311\\Lib\\site-packages\\sklearn\\base.py:465: UserWarning: X does not have valid feature names, but StandardScaler was fitted with feature names\n",
      "  warnings.warn(\n",
      "c:\\Users\\akshi\\AppData\\Local\\Programs\\Python\\Python311\\Lib\\site-packages\\sklearn\\base.py:465: UserWarning: X does not have valid feature names, but StandardScaler was fitted with feature names\n",
      "  warnings.warn(\n"
     ]
    }
   ],
   "source": [
    "import pandas as pd\n",
    "from sklearn.model_selection import train_test_split\n",
    "from sklearn.preprocessing import StandardScaler\n",
    "from sklearn.linear_model import LogisticRegression\n",
    "from sklearn.metrics import mean_squared_error, accuracy_score, confusion_matrix\n",
    "\n",
    "# Load the dataset\n",
    "data = pd.read_csv('Weather_data.csv')\n",
    "\n",
    "# Check if 'Rainfall' column exists, if not create one (example logic)\n",
    "if 'Rainfall' not in data.columns:\n",
    "    # Assuming you want to set a threshold based on precipitation (precip_mm) to determine if it rains\n",
    "    data['Rainfall'] = data['precip_mm'].apply(lambda x: 1 if x > 0 else 0)\n",
    "\n",
    "# Define your features (X) and target variable (y)\n",
    "X = data[['temperature_celsius', 'wind_mph', 'humidity', 'cloud', 'pressure_mb']]\n",
    "y = data['Rainfall']  # Assuming we want to predict binary rainfall (1 or 0)\n",
    "\n",
    "# Split the data into training and testing sets (80% train, 20% test)\n",
    "X_train, X_test, y_train, y_test = train_test_split(X, y, test_size=0.2, random_state=42)\n",
    "\n",
    "# Scale the features\n",
    "scaler = StandardScaler()\n",
    "X_train_scaled = scaler.fit_transform(X_train)\n",
    "X_test_scaled = scaler.transform(X_test)\n",
    "\n",
    "# Initialize and train the Logistic Regression model\n",
    "model = LogisticRegression(random_state=42)\n",
    "model.fit(X_train_scaled, y_train)\n",
    "\n",
    "# Make predictions\n",
    "y_pred = model.predict(X_test_scaled)\n",
    "\n",
    "# Evaluate the model (Mean Squared Error)\n",
    "mse = mean_squared_error(y_test, y_pred)\n",
    "\n",
    "# Calculate accuracy metrics\n",
    "correct_predictions = (y_pred == y_test).sum()\n",
    "incorrect_predictions = (y_pred != y_test).sum()\n",
    "total_predictions = len(y_test)\n",
    "accuracy = correct_predictions / total_predictions  # Accuracy as a fraction\n",
    "\n",
    "conf_matrix = confusion_matrix(y_test, y_pred)\n",
    "\n",
    "print(f'Mean Squared Error: {mse}')\n",
    "print(f'Correct Predictions: {correct_predictions}')\n",
    "print(f'Incorrect Predictions: {incorrect_predictions}')\n",
    "print(f'Accuracy: {accuracy}')  # Print accuracy as a decimal (fraction)\n",
    "print(f'Confusion Matrix:\\n{conf_matrix}')\n",
    "\n",
    "# Function to predict if rainfall is going to happen (yes/no)\n",
    "def predict_rainfall(weather_data):\n",
    "    \"\"\"\n",
    "    Predict if rainfall will occur based on input weather conditions.\n",
    "    \n",
    "    :param weather_data: A list or array of [Temperature, WindSpeed, Humidity, CloudCover, Pressure]\n",
    "    :return: \"Rainfall expected\" or \"No rainfall expected\"\n",
    "    \"\"\"\n",
    "    weather_data_scaled = scaler.transform([weather_data])\n",
    "    predicted_rainfall = model.predict(weather_data_scaled)[0]\n",
    "    \n",
    "    if predicted_rainfall == 1:\n",
    "        return \"Rainfall expected\"\n",
    "    else:\n",
    "        return \"No rainfall expected\"\n",
    "\n",
    "# Test Case 1: Predict rainfall for given weather conditions (Rainfall expected)\n",
    "test_weather_data_1 = [25.0, 15.0, 90, 80, 1008]  # Example: [Temperature, WindSpeed, Humidity, CloudCover, Pressure]\n",
    "rainfall_prediction_1 = predict_rainfall(test_weather_data_1)\n",
    "print(f'Test case 1 result: {rainfall_prediction_1}')\n",
    "\n",
    "# Test Case 2: Predict rainfall for given weather conditions (No rainfall expected)\n",
    "test_weather_data_2 = [30.0, 10.0, 40, 10, 1015]  # Example: [Temperature, WindSpeed, Humidity, CloudCover, Pressure]\n",
    "rainfall_prediction_2 = predict_rainfall(test_weather_data_2)\n",
    "print(f'Test case 2 result: {rainfall_prediction_2}')\n"
   ]
  }
 ],
 "metadata": {
  "kernelspec": {
   "display_name": "Python 3",
   "language": "python",
   "name": "python3"
  },
  "language_info": {
   "codemirror_mode": {
    "name": "ipython",
    "version": 3
   },
   "file_extension": ".py",
   "mimetype": "text/x-python",
   "name": "python",
   "nbconvert_exporter": "python",
   "pygments_lexer": "ipython3",
   "version": "3.11.4"
  }
 },
 "nbformat": 4,
 "nbformat_minor": 2
}
