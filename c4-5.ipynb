{
 "cells": [
  {
   "cell_type": "code",
   "execution_count": 2,
   "metadata": {},
   "outputs": [
    {
     "name": "stdout",
     "output_type": "stream",
     "text": [
      "C4.5 (Decision Tree Regressor):\n",
      "MSE: 0.0007292064810968009, R^2: 0.9994004191173413, Accuracy: 0.9980612103586761\n",
      "\n"
     ]
    }
   ],
   "source": [
    "# Required Libraries\n",
    "import pandas as pd\n",
    "from sklearn.model_selection import train_test_split\n",
    "from sklearn.preprocessing import StandardScaler\n",
    "from sklearn.metrics import mean_squared_error, r2_score\n",
    "from sklearn.tree import DecisionTreeRegressor  # C4.5 as a Regressor\n",
    "\n",
    "# Load your dataset (ensure 'Rainfall' is the target variable)\n",
    "data = pd.read_csv('Weather_data.csv')\n",
    "\n",
    "# Create a new 'Rainfall' column from 'precip_mm' if it doesn't exist\n",
    "if 'Rainfall' not in data.columns and 'precip_mm' in data.columns:\n",
    "    data['Rainfall'] = data['precip_mm']\n",
    "elif 'Rainfall' not in data.columns:\n",
    "    raise KeyError(\"'Rainfall' column is missing and 'precip_mm' is also not available. Please check the dataset.\")\n",
    "\n",
    "# One-hot encoding for categorical features\n",
    "data = pd.get_dummies(data, drop_first=True)  # Convert categorical variables into dummy/indicator variables\n",
    "\n",
    "# Assuming 'Rainfall' is the target variable\n",
    "X = data.drop(columns=['Rainfall'])  # Features\n",
    "y = data['Rainfall']  # Target\n",
    "\n",
    "# Train-test split\n",
    "X_train, X_test, y_train, y_test = train_test_split(X, y, test_size=0.3, random_state=42)\n",
    "\n",
    "# C4.5 (using Decision Tree Regressor)\n",
    "print(\"C4.5 (Decision Tree Regressor):\")\n",
    "model_c45 = DecisionTreeRegressor()  # Using Regressor instead of Classifier\n",
    "model_c45.fit(X_train, y_train)\n",
    "\n",
    "# Make predictions\n",
    "y_pred_c45 = model_c45.predict(X_test)\n",
    "\n",
    "# Calculate metrics\n",
    "mse_c45 = mean_squared_error(y_test, y_pred_c45)\n",
    "r2_c45 = r2_score(y_test, y_pred_c45)\n",
    "\n",
    "# Define a custom accuracy function for regression\n",
    "def calculate_accuracy(y_true, y_pred, tolerance=0.1):\n",
    "    return (abs(y_true - y_pred) <= tolerance).mean()\n",
    "\n",
    "# Calculate custom accuracy\n",
    "accuracy_c45 = calculate_accuracy(y_test, y_pred_c45)\n",
    "\n",
    "# Output results\n",
    "print(f'MSE: {mse_c45}, R^2: {r2_c45}, Accuracy: {accuracy_c45}\\n')"
   ]
  }
 ],
 "metadata": {
  "kernelspec": {
   "display_name": "Python 3",
   "language": "python",
   "name": "python3"
  },
  "language_info": {
   "codemirror_mode": {
    "name": "ipython",
    "version": 3
   },
   "file_extension": ".py",
   "mimetype": "text/x-python",
   "name": "python",
   "nbconvert_exporter": "python",
   "pygments_lexer": "ipython3",
   "version": "3.11.4"
  }
 },
 "nbformat": 4,
 "nbformat_minor": 2
}
