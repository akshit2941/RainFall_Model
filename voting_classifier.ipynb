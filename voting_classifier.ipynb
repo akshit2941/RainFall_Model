{
  "cells": [
    {
      "cell_type": "code",
      "execution_count": 2,
      "metadata": {
        "colab": {
          "base_uri": "https://localhost:8080/"
        },
        "id": "JHQEfJzOavOj",
        "outputId": "2b29b78c-205b-45a2-d0a3-54b559b7fd30"
      },
      "outputs": [
        {
          "name": "stdout",
          "output_type": "stream",
          "text": [
            "Voting Classifier:\n",
            "Accuracy: 0.989613626921479\n",
            "Confusion Matrix:\n",
            "[[5015    6]\n",
            " [  69 2131]]\n"
          ]
        }
      ],
      "source": [
        "import pandas as pd\n",
        "from sklearn.model_selection import train_test_split\n",
        "from sklearn.preprocessing import StandardScaler\n",
        "from sklearn.neural_network import MLPClassifier\n",
        "from sklearn.ensemble import RandomForestClassifier, VotingClassifier\n",
        "from sklearn.linear_model import LogisticRegression\n",
        "from sklearn.metrics import accuracy_score, confusion_matrix\n",
        "\n",
        "# Assuming 'data' is your DataFrame and it has been loaded previously\n",
        "\n",
        "if 'Rainfall' not in data.columns:\n",
        "    raise KeyError(\"'Rainfall' column is missing and 'precip_mm' is also not available. Please check the dataset.\")\n",
        "\n",
        "# Assuming 'Rainfall' is the target variable and binarizing it for classification\n",
        "data['Rainfall'] = data['Rainfall'].apply(lambda x: 1 if x > 0 else 0)  # Binarizing for classification\n",
        "\n",
        "# One-hot encoding for categorical features\n",
        "data = pd.get_dummies(data, drop_first=True)  # Convert categorical variables into dummy/indicator variables\n",
        "\n",
        "# Features and target\n",
        "X = data.drop(columns=['Rainfall'])  # Features\n",
        "y = data['Rainfall']  # Target\n",
        "\n",
        "# Train-test split\n",
        "X_train, X_test, y_train, y_test = train_test_split(X, y, test_size=0.3, random_state=42)\n",
        "\n",
        "# Scaling the data (important for ANN)\n",
        "scaler = StandardScaler()\n",
        "X_train_scaled = scaler.fit_transform(X_train)\n",
        "X_test_scaled = scaler.transform(X_test)\n",
        "\n",
        "# Define individual models\n",
        "ann_model = MLPClassifier(max_iter=1000, random_state=42)  # Artificial Neural Network (ANN)\n",
        "rf_model = RandomForestClassifier(random_state=42)  # Random Forest\n",
        "lr_model = LogisticRegression(max_iter=2000, random_state=42)  # Logistic Regression with increased max_iter\n",
        "\n",
        "# Combine models into a Voting Classifier (hard voting)\n",
        "voting_model = VotingClassifier(estimators=[\n",
        "    ('ann', ann_model),  # ANN\n",
        "    ('rf', rf_model),    # Random Forest\n",
        "    ('lr', lr_model)     # Logistic Regression\n",
        "], voting='hard')  # 'hard' voting for majority class decision\n",
        "\n",
        "# Train the Voting Classifier\n",
        "print(\"Voting Classifier:\")\n",
        "voting_model.fit(X_train_scaled, y_train)\n",
        "\n",
        "# Make predictions\n",
        "y_pred_voting = voting_model.predict(X_test_scaled)\n",
        "\n",
        "# Calculate metrics\n",
        "accuracy_voting = accuracy_score(y_test, y_pred_voting)\n",
        "confusion_voting = confusion_matrix(y_test, y_pred_voting)\n",
        "\n",
        "# Output results\n",
        "print(f'Accuracy: {accuracy_voting}')\n",
        "print('Confusion Matrix:')\n",
        "print(confusion_voting)"
      ]
    }
  ],
  "metadata": {
    "colab": {
      "provenance": []
    },
    "kernelspec": {
      "display_name": "Python 3",
      "name": "python3"
    },
    "language_info": {
      "codemirror_mode": {
        "name": "ipython",
        "version": 3
      },
      "file_extension": ".py",
      "mimetype": "text/x-python",
      "name": "python",
      "nbconvert_exporter": "python",
      "pygments_lexer": "ipython3",
      "version": "3.11.4"
    }
  },
  "nbformat": 4,
  "nbformat_minor": 0
}
